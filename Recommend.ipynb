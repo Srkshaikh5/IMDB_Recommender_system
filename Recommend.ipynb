{
 "cells": [
  {
   "cell_type": "markdown",
   "metadata": {},
   "source": [
    "#   <center>  Rating-based movie recommendation"
   ]
  },
  {
   "cell_type": "code",
   "execution_count": null,
   "metadata": {},
   "outputs": [],
   "source": []
  },
  {
   "cell_type": "markdown",
   "metadata": {},
   "source": [
    "## findClosestCritics\n",
    "This function is to return a list of three critics, whose ratings of movies are most similar \n",
    "    to those provided in the personal ratings data based on Euclidean distance. The lower the \n",
    "    distance, the closer, thus more similar, the critic's ratings are to the person's. \n",
    "     \n",
    "    Parameters:\n",
    "    criticsDataFrame - provides data about critics ratings\n",
    "    personalDataFrame - provides data about personal ratings "
   ]
  },
  {
   "cell_type": "code",
   "execution_count": 1,
   "metadata": {},
   "outputs": [],
   "source": [
    "def findClosestCritics(criticsRatingDF, personalRatingDF):\n",
    "    import pandas as pd\n",
    "    import numpy as np\n",
    "    matchedMovieDF = pd.merge(personalRatingDF, criticsRatingDF) # merge the two DFs together with matched movies\n",
    "    matchedMovieDF.index = list(matchedMovieDF.loc[:,'Title']) # set Title as index\n",
    "    matchedMovieDF.drop(columns = ['Title'], inplace = True) # drop Title column\n",
    "       \n",
    "    y = list(matchedMovieDF.iloc[:,0]) # get a list of personal rating values\n",
    "\n",
    "    criticsListDF = pd.DataFrame(index = matchedMovieDF.columns[1:], columns = ['Euclidean']) # create an empty DF to record euclidean for each critics\n",
    "    \n",
    "    for i in range(matchedMovieDF.shape[1]-1): # calculate euclidean distance for each critics vs. personal\n",
    "        x = list(matchedMovieDF.iloc[:,i+1])\n",
    "        sqrsum = 0\n",
    "        for j in range(matchedMovieDF.shape[0]):\n",
    "            sqrsum = sqrsum + (x[j] - y[j])**2\n",
    "            j += 1\n",
    "        Euclidean = np.sqrt(sqrsum)\n",
    "        criticsListDF.iloc[i,0] = Euclidean # assign euclidean values to DF\n",
    "        i += 1\n",
    "    \n",
    "    criticsListDF = criticsListDF.sort_values(by = ['Euclidean']) # sort critics by Euclidean distance in ascending order\n",
    "    criticsList = list(criticsListDF.index[:3])\n",
    "     \n",
    "    return criticsList"
   ]
  },
  {
   "cell_type": "code",
   "execution_count": null,
   "metadata": {},
   "outputs": [],
   "source": []
  },
  {
   "cell_type": "markdown",
   "metadata": {},
   "source": [
    "## recommendMovies\n",
    "This function is to compute the top-rated unwatched movies in each genre category \n",
    "    based on the average of the three critics' ratings\n",
    "     \n",
    "    Parameters:\n",
    "    criticsDataFrame - provides data about critics' ratings\n",
    "    personalDataFrame - provides data about personal ratings \n",
    "    topThreeCriticsLst - a list of three critics, whose ratings of movies are most similar to \n",
    "    those provided in the personal ratings data\n",
    "    movieDataFrame - provides data about movies info"
   ]
  },
  {
   "cell_type": "code",
   "execution_count": 2,
   "metadata": {},
   "outputs": [],
   "source": [
    "\n",
    "def recommendMovies(personalRatingDF, criticsRatingDF, criticsList, movieDF):   \n",
    "    import pandas as pd\n",
    "    movieDF.index = list(movieDF.loc[:,'Title']) # set Title as index\n",
    "    movieDF = pd.DataFrame(movieDF, columns = ['Title','criticsRating','Genre1','Year','Runtime'])\n",
    "    \n",
    "    criticsRatingDF.index = list(criticsRatingDF.loc[:,'Title']) # set Title as index\n",
    "    criticsRatingDF = pd.DataFrame(criticsRatingDF, columns = criticsList) # extract data for 3 critics\n",
    "\n",
    "    movieDF.criticsRating = list(criticsRatingDF.mean(axis = 1)) # calculate average rating for each movie\n",
    "\n",
    "    personalRatingDF.index = list(personalRatingDF.loc[:,'Title']) # set Title as index\n",
    "\n",
    "    unwatchedMovie = movieDF.index.difference(personalRatingDF.index) # get unwatched movies\n",
    "    unwatchedMovieDF = movieDF.reindex(index = unwatchedMovie)\n",
    "\n",
    "    TopRatedDF= unwatchedMovieDF.groupby(by = 'Genre1', as_index = False)['criticsRating'].max() # get top 1 rating movie for each genre\n",
    "    \n",
    "    TopRatedUnwatchedDF = pd.merge(unwatchedMovieDF,TopRatedDF) # merge with the unwatched movie list\n",
    "    TopRatedUnwatchedDF = TopRatedUnwatchedDF.sort_values(by = ['Genre1']) # sort by genre\n",
    "    \n",
    "    return TopRatedUnwatchedDF\n"
   ]
  },
  {
   "cell_type": "code",
   "execution_count": null,
   "metadata": {},
   "outputs": [],
   "source": []
  },
  {
   "cell_type": "markdown",
   "metadata": {},
   "source": [
    "## printRecommendations\n",
    "This function is to printout all the recommended movies in alphabetical order by the genre.\n",
    "    \n",
    "    Parameters:\n",
    "    movieRecommendation - provides data about critics' ratings\n",
    "    personName - the person's name for whom the recommendation is made for"
   ]
  },
  {
   "cell_type": "code",
   "execution_count": 3,
   "metadata": {},
   "outputs": [],
   "source": [
    " \n",
    "def printRecommendations(TopRatedUnwatchedDF, personName):\n",
    "    import pandas as pd\n",
    "    print('Recommendations for', personName, ':')\n",
    "    \n",
    "    maxLengthOfTitle = max(TopRatedUnwatchedDF['Title'].apply(len)) # get max length of title\n",
    " \n",
    "    for i in range(TopRatedUnwatchedDF.shape[0]): # print each row\n",
    "        title = TopRatedUnwatchedDF.iloc[i,0]\n",
    "        genre = TopRatedUnwatchedDF.iloc[i,2]\n",
    "        rating = round(TopRatedUnwatchedDF.iloc[i,1], 2)\n",
    "        year = TopRatedUnwatchedDF.iloc[i,3]\n",
    "         \n",
    "        if pd.isnull(TopRatedUnwatchedDF.iloc[i,4]):\n",
    "            print(('\"'+title+'\"').ljust(maxLengthOfTitle+2),\n",
    "                  '('+genre+'), rating:', str(rating)+',', str(year))\n",
    "        else:\n",
    "            runtime = TopRatedUnwatchedDF.iloc[i,4]\n",
    "            print(('\"'+title+'\"').ljust(maxLengthOfTitle+2),\n",
    "                  '('+genre+'), rating:', str(rating)+',', str(year)+', runs', runtime)\n",
    "           \n",
    "    return "
   ]
  },
  {
   "cell_type": "markdown",
   "metadata": {},
   "source": [
    "## Main Function\n",
    "The main function that is called to start the program. "
   ]
  },
  {
   "cell_type": "code",
   "execution_count": 4,
   "metadata": {},
   "outputs": [],
   "source": [
    "\n",
    "def main():   \n",
    "    import os\n",
    "    import pandas as pd\n",
    "    arg = input('Please enter the name of the folder with files, the name of movies file,\\nthe name of critics file, the name of personal ratings file, separated by spaces:\\n')\n",
    "    l = list(arg.split())\n",
    "    orig_dir = os.getcwd()\n",
    "    \n",
    "    os.chdir(orig_dir+'\\\\'+l[0])\n",
    "       \n",
    "    movieDF = pd.read_csv(l[1], encoding = 'latin1')\n",
    "    criticsRatingDF = pd.read_csv(l[2], encoding = 'latin1')\n",
    "    personalRatingDF = pd.read_csv(l[3], encoding = 'latin1')\n",
    "       \n",
    "    criticsList = findClosestCritics(criticsRatingDF, personalRatingDF)\n",
    "    print('\\n',criticsList,'\\n')\n",
    "       \n",
    "    TopRatedUnwatchedDF = recommendMovies(personalRatingDF, criticsRatingDF, criticsList, movieDF)\n",
    "      \n",
    "    personName = personalRatingDF.columns[1]\n",
    "    printRecommendations(TopRatedUnwatchedDF, personName)\n",
    "    os.chdir(orig_dir)\n",
    "   \n",
    "    return"
   ]
  },
  {
   "cell_type": "code",
   "execution_count": null,
   "metadata": {},
   "outputs": [],
   "source": []
  },
  {
   "cell_type": "markdown",
   "metadata": {},
   "source": [
    "## Output:"
   ]
  },
  {
   "cell_type": "code",
   "execution_count": 11,
   "metadata": {},
   "outputs": [
    {
     "name": "stdout",
     "output_type": "stream",
     "text": [
      "Please enter the name of the folder with files, the name of movies file,\n",
      "the name of critics file, the name of personal ratings file, separated by spaces:\n",
      "data-tiny  tinyIMDB.csv tinyratings.csv tinyp.csv\n",
      "\n",
      " ['Aldbridge', 'Moon', 'Benris'] \n",
      "\n",
      "Recommendations for Kimberwick :\n",
      "\"127 Hours\"  (Adventure), rating: 8.0, 2010, runs 94 min\n",
      "\"50/50\"      (Comedy), rating: 7.0, 2011, runs 100 min\n",
      "\"About Time\" (Comedy), rating: 7.0, 2013, runs 123 min\n"
     ]
    }
   ],
   "source": [
    "main() # Enter: data-tiny  tinyIMDB.csv tinyratings.csv tinyp.csv"
   ]
  },
  {
   "cell_type": "code",
   "execution_count": null,
   "metadata": {},
   "outputs": [],
   "source": []
  },
  {
   "cell_type": "code",
   "execution_count": 12,
   "metadata": {},
   "outputs": [
    {
     "name": "stdout",
     "output_type": "stream",
     "text": [
      "Please enter the name of the folder with files, the name of movies file,\n",
      "the name of critics file, the name of personal ratings file, separated by spaces:\n",
      "data  IMDB.csv ratings.csv   p8.csv\n",
      "\n",
      " ['Quartermaine', 'Arvon', 'Merrison'] \n",
      "\n",
      "Recommendations for Catulpa :\n",
      "\"Star Wars: The Force Awakens\"    (Action), rating: 9.67, 2015, runs 136 min\n",
      "\"The Grand Budapest Hotel\"        (Adventure), rating: 9.0, 2014, runs 99 min\n",
      "\"The Martian\"                     (Adventure), rating: 9.0, 2015, runs 144 min\n",
      "\"How to Train Your Dragon\"        (Animation), rating: 9.67, 2010\n",
      "\"Kubo and the Two Strings\"        (Animation), rating: 9.67, 2016\n",
      "\"Hacksaw Ridge\"                   (Biography), rating: 9.33, 2016, runs 139 min\n",
      "\"What We Do in the Shadows\"       (Comedy), rating: 9.0, 2014\n",
      "\"Prisoners\"                       (Crime), rating: 8.33, 2013, runs 153 min\n",
      "\"Spotlight\"                       (Crime), rating: 8.33, 2015, runs 128 min\n",
      "\"The Perks of Being a Wallflower\" (Drama), rating: 9.67, 2012, runs 102 min\n",
      "\"Shutter Island\"                  (Mystery), rating: 8.33, 2010, runs 138 min\n"
     ]
    }
   ],
   "source": [
    "main() # Enter: data  IMDB.csv ratings.csv   p8.csv"
   ]
  },
  {
   "cell_type": "code",
   "execution_count": null,
   "metadata": {},
   "outputs": [],
   "source": []
  }
 ],
 "metadata": {
  "kernelspec": {
   "display_name": "Python 3",
   "language": "python",
   "name": "python3"
  },
  "language_info": {
   "codemirror_mode": {
    "name": "ipython",
    "version": 3
   },
   "file_extension": ".py",
   "mimetype": "text/x-python",
   "name": "python",
   "nbconvert_exporter": "python",
   "pygments_lexer": "ipython3",
   "version": "3.7.1"
  }
 },
 "nbformat": 4,
 "nbformat_minor": 2
}
